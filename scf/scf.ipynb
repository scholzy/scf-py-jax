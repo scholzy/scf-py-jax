{
 "cells": [
  {
   "cell_type": "code",
   "execution_count": 1,
   "metadata": {},
   "outputs": [],
   "source": [
    "import jax\n",
    "import jax.numpy as jnp"
   ]
  },
  {
   "cell_type": "code",
   "execution_count": 2,
   "metadata": {},
   "outputs": [],
   "source": [
    "N = 3\n",
    "R = 1.4632\n",
    "ZETA1 = 2.0925\n",
    "ZETA2 = 1.24\n",
    "ZA = 2.0\n",
    "ZB = 1.0"
   ]
  },
  {
   "cell_type": "code",
   "execution_count": 3,
   "metadata": {},
   "outputs": [],
   "source": [
    "COEFFICIENTS = jnp.array([[1.000000, 0.000000, 0.000000],\n",
    "                          [0.678914, 0.430129, 0.000000],\n",
    "                          [0.444635, 0.535328, 0.154329]])"
   ]
  },
  {
   "cell_type": "code",
   "execution_count": 4,
   "metadata": {},
   "outputs": [],
   "source": [
    "EXPONENTS = jnp.array([[0.270950, 0.000000, 0.00000],\n",
    "                       [0.151623, 0.851819, 0.00000],\n",
    "                       [0.109818, 0.405771, 2.22766]])"
   ]
  },
  {
   "cell_type": "code",
   "execution_count": 5,
   "metadata": {},
   "outputs": [],
   "source": [
    "A1 = EXPONENTS[N-1, :] * jnp.power(ZETA1, 2)"
   ]
  },
  {
   "cell_type": "code",
   "execution_count": 6,
   "metadata": {},
   "outputs": [],
   "source": [
    "A2 = EXPONENTS[N-1, :] * jnp.power(ZETA2, 2)"
   ]
  },
  {
   "cell_type": "code",
   "execution_count": 7,
   "metadata": {},
   "outputs": [],
   "source": [
    "D1 = COEFFICIENTS[N-1, :] * jnp.power(2 * A1 / jnp.pi, 0.75)"
   ]
  },
  {
   "cell_type": "code",
   "execution_count": 8,
   "metadata": {},
   "outputs": [],
   "source": [
    "D2 = COEFFICIENTS[N-1, :] * jnp.power(2 * A2 / jnp.pi, 0.75)"
   ]
  },
  {
   "cell_type": "code",
   "execution_count": 9,
   "metadata": {},
   "outputs": [],
   "source": [
    "def overlap_integral(a, b, r):\n",
    "    return jnp.power(jnp.pi / (a + b), 1.5) * jnp.exp((-1 * a * b * r) / (a + b))"
   ]
  },
  {
   "cell_type": "code",
   "execution_count": 10,
   "metadata": {},
   "outputs": [
    {
     "data": {
      "text/plain": [
       "DeviceArray(0.45077044, dtype=float32)"
      ]
     },
     "execution_count": 10,
     "metadata": {},
     "output_type": "execute_result"
    }
   ],
   "source": [
    "S12 = jnp.sum(overlap_integral(A1, A2[:, jnp.newaxis], R*R) * jnp.einsum('i,j', D1, D2))\n",
    "S12"
   ]
  },
  {
   "cell_type": "code",
   "execution_count": 11,
   "metadata": {},
   "outputs": [],
   "source": [
    "def kinetic_energy(a, b, r):\n",
    "    return (a * b) / (a + b) * (3 - (2 * a * b * r) / (a + b)) * overlap_integral(a, b, r)"
   ]
  },
  {
   "cell_type": "code",
   "execution_count": 12,
   "metadata": {},
   "outputs": [
    {
     "data": {
      "text/plain": [
       "(DeviceArray(2.1643124, dtype=float32),\n",
       " DeviceArray(0.16701286, dtype=float32),\n",
       " DeviceArray(0.76003295, dtype=float32))"
      ]
     },
     "execution_count": 12,
     "metadata": {},
     "output_type": "execute_result"
    }
   ],
   "source": [
    "T11 = jnp.sum(kinetic_energy(A1, A1[:, None], 0.0) * jnp.einsum('i,j', D1, D1))\n",
    "T12 = jnp.sum(kinetic_energy(A1, A2[:, None], R*R) * jnp.einsum('i,j', D1, D2))\n",
    "T22 = jnp.sum(kinetic_energy(A2, A2[:, None], 0.0) * jnp.einsum('i,j', D2, D2))\n",
    "(T11, T12, T22)"
   ]
  },
  {
   "cell_type": "code",
   "execution_count": 13,
   "metadata": {},
   "outputs": [],
   "source": [
    "def nuclear_attraction(a, b, r1, r2, z):\n",
    "    return -1 * z * 2 * jnp.pi / (a + b) * f0((a + b) * r2) * jnp.exp(-1 * a * b * r1 / (a + b))"
   ]
  },
  {
   "cell_type": "code",
   "execution_count": 14,
   "metadata": {},
   "outputs": [],
   "source": [
    "def f0(x):\n",
    "    return jnp.where(x < 1e-6,\n",
    "                     1.0 - x/3.0,\n",
    "                     jnp.sqrt(jnp.pi / x) * jax.scipy.special.erf(jnp.sqrt(x)) / 2)"
   ]
  },
  {
   "cell_type": "code",
   "execution_count": 29,
   "metadata": {},
   "outputs": [
    {
     "data": {
      "text/plain": [
       "(DeviceArray(-4.139827, dtype=float32),\n",
       " DeviceArray(-1.1029125, dtype=float32),\n",
       " DeviceArray(-1.2652458, dtype=float32),\n",
       " DeviceArray(-0.6772301, dtype=float32),\n",
       " DeviceArray(-0.4113055, dtype=float32),\n",
       " DeviceArray(-1.2266155, dtype=float32))"
      ]
     },
     "execution_count": 29,
     "metadata": {},
     "output_type": "execute_result"
    }
   ],
   "source": [
    "rAP = A2[:, None] * R / (A1 + A2[:, None])\n",
    "rBP = R - rAP\n",
    "V11a = jnp.sum(nuclear_attraction(A1, A1[:, None],   0,       0, ZA) * jnp.einsum('i,j', D1, D1))\n",
    "V12a = jnp.sum(nuclear_attraction(A1, A2[:, None], R*R, rAP*rAP, ZA) * jnp.einsum('i,j', D1, D2))\n",
    "V22a = jnp.sum(nuclear_attraction(A2, A2[:, None],   0,     R*R, ZA) * jnp.einsum('i,j', D2, D2))\n",
    "V11b = jnp.sum(nuclear_attraction(A1, A1[:, None],   0,     R*R, ZB) * jnp.einsum('i,j', D1, D1))\n",
    "V12b = jnp.sum(nuclear_attraction(A1, A2[:, None], R*R, rBP*rBP, ZB) * jnp.einsum('i,j', D1, D2))\n",
    "V22b = jnp.sum(nuclear_attraction(A2, A2[:, None],   0,       0, ZB) * jnp.einsum('i,j', D2, D2))\n",
    "(V11a, V12a, V22a, V11b, V12b, V22b)"
   ]
  },
  {
   "cell_type": "code",
   "execution_count": 30,
   "metadata": {},
   "outputs": [],
   "source": [
    "def two_electron_integral(a, b, c, d, r1, r2, r3):\n",
    "    return 2 * (jnp.power(jnp.pi, 2.5) / ((a + b) * (c + d) * jnp.sqrt(a + b + c + d))\n",
    "                * f0((a + b) * (c + d) * r3 / (a + b + c + d))\n",
    "                * jnp.exp(-1 * a * b * r1 / (a + b) - c * d * r2 / (c + d)))"
   ]
  },
  {
   "cell_type": "code",
   "execution_count": 31,
   "metadata": {},
   "outputs": [
    {
     "data": {
      "text/plain": [
       "(DeviceArray(1.3071517, dtype=float32),\n",
       " DeviceArray(0.43727934, dtype=float32),\n",
       " DeviceArray(0.1772671, dtype=float32),\n",
       " DeviceArray(0.6057035, dtype=float32),\n",
       " DeviceArray(0.31179467, dtype=float32),\n",
       " DeviceArray(0.7746078, dtype=float32))"
      ]
     },
     "execution_count": 31,
     "metadata": {},
     "output_type": "execute_result"
    }
   ],
   "source": [
    "rAP = A2 * R / (A2 + A1[:, None])\n",
    "rAQ = A2[:, None, None] * R / (A2[:, None, None] + A1[:, None, None, None])\n",
    "rPQ = rAP - rAQ\n",
    "rBQ = R - rAQ\n",
    "V1111 = jnp.sum(two_electron_integral(A1, A1[:, None], A1[:, None, None], A1[:, None, None, None],   0,   0,       0) * jnp.einsum('i,j,k,l->ijkl', D1, D1, D1, D1))\n",
    "V2111 = jnp.sum(two_electron_integral(A2, A1[:, None], A1[:, None, None], A1[:, None, None, None], R*R,   0, rAP*rAP) * jnp.einsum('i,j,k,l->ijkl', D2, D1, D1, D1))\n",
    "V2121 = jnp.sum(two_electron_integral(A2, A1[:, None], A2[:, None, None], A1[:, None, None, None], R*R, R*R, rPQ*rPQ) * jnp.einsum('i,j,k,l->ijkl', D2, D1, D2, D1))\n",
    "V2211 = jnp.sum(two_electron_integral(A2, A2[:, None], A1[:, None, None], A1[:, None, None, None],   0,   0,     R*R) * jnp.einsum('i,j,k,l->ijkl', D2, D2, D1, D1))\n",
    "V2221 = jnp.sum(two_electron_integral(A2, A2[:, None], A2[:, None, None], A1[:, None, None, None],   0, R*R, rBQ*rBQ) * jnp.einsum('i,j,k,l->ijkl', D2, D2, D2, D1))\n",
    "V2222 = jnp.sum(two_electron_integral(A2, A2[:, None], A2[:, None, None], A2[:, None, None, None],   0,   0,       0) * jnp.einsum('i,j,k,l->ijkl', D2, D2, D2, D2))\n",
    "(V1111, V2111, V2121, V2211, V2221, V2222)"
   ]
  },
  {
   "cell_type": "code",
   "execution_count": 18,
   "metadata": {},
   "outputs": [
    {
     "data": {
      "text/plain": [
       "DeviceArray([[-2.6527445, -1.3472052],\n",
       "             [-1.3472052, -1.7318285]], dtype=float32)"
      ]
     },
     "execution_count": 18,
     "metadata": {},
     "output_type": "execute_result"
    }
   ],
   "source": [
    "H0 = jnp.array([[T11 + V11a + V11b, T12 + V12a + V12b],\n",
    "                [T12 + V12a + V12b, T22 + V22a + V22b]])\n",
    "H0"
   ]
  },
  {
   "cell_type": "code",
   "execution_count": 19,
   "metadata": {},
   "outputs": [
    {
     "data": {
      "text/plain": [
       "DeviceArray([[1.        , 0.45077044],\n",
       "             [0.45077044, 1.        ]], dtype=float32)"
      ]
     },
     "execution_count": 19,
     "metadata": {},
     "output_type": "execute_result"
    }
   ],
   "source": [
    "S = jnp.array([[  1, S12],\n",
    "               [S12,   1]])\n",
    "S"
   ]
  },
  {
   "cell_type": "code",
   "execution_count": 20,
   "metadata": {},
   "outputs": [
    {
     "data": {
      "text/plain": [
       "DeviceArray([[ 0.58706427,  0.95413107],\n",
       "             [ 0.58706427, -0.95413107]], dtype=float32)"
      ]
     },
     "execution_count": 20,
     "metadata": {},
     "output_type": "execute_result"
    }
   ],
   "source": [
    "X = jnp.array([[1 / jnp.sqrt(2 * (1 + S12)),   1 / jnp.sqrt(2 * (1 - S12))],\n",
    "               [1 / jnp.sqrt(2 * (1 + S12)), - 1 / jnp.sqrt(2 * (1 - S12))]])\n",
    "X"
   ]
  },
  {
   "cell_type": "code",
   "execution_count": 21,
   "metadata": {},
   "outputs": [
    {
     "data": {
      "text/plain": [
       "DeviceArray([[[[1.3071517 , 0.43727934],\n",
       "               [0.43727934, 0.6057035 ]],\n",
       "\n",
       "              [[0.43727934, 0.1772671 ],\n",
       "               [0.1772671 , 0.31179467]]],\n",
       "\n",
       "\n",
       "             [[[0.43727934, 0.1772671 ],\n",
       "               [0.1772671 , 0.31179467]],\n",
       "\n",
       "              [[0.6057035 , 0.31179467],\n",
       "               [0.31179467, 0.7746078 ]]]], dtype=float32)"
      ]
     },
     "execution_count": 21,
     "metadata": {},
     "output_type": "execute_result"
    }
   ],
   "source": [
    "TT = jnp.zeros((2, 2, 2, 2))\n",
    "TT = TT.at[0, 0, 0, 0].set(V1111)\n",
    "TT = TT.at[1, 0, 0, 0].set(V2111)\n",
    "TT = TT.at[0, 1, 0, 0].set(V2111)\n",
    "TT = TT.at[0, 0, 1, 0].set(V2111)\n",
    "TT = TT.at[0, 0, 0, 1].set(V2111)\n",
    "TT = TT.at[1, 0, 1, 0].set(V2121)\n",
    "TT = TT.at[0, 1, 1, 0].set(V2121)\n",
    "TT = TT.at[1, 0, 0, 1].set(V2121)\n",
    "TT = TT.at[0, 1, 0, 1].set(V2121)\n",
    "TT = TT.at[1, 1, 0, 0].set(V2211)\n",
    "TT = TT.at[0, 0, 1, 1].set(V2211)\n",
    "TT = TT.at[1, 1, 1, 0].set(V2221)\n",
    "TT = TT.at[1, 1, 0, 1].set(V2221)\n",
    "TT = TT.at[1, 0, 1, 1].set(V2221)\n",
    "TT = TT.at[0, 1, 1, 1].set(V2221)\n",
    "TT = TT.at[1, 1, 1, 1].set(V2222)\n",
    "TT"
   ]
  },
  {
   "cell_type": "code",
   "execution_count": 22,
   "metadata": {},
   "outputs": [],
   "source": [
    "MAX_ITER = 15"
   ]
  },
  {
   "cell_type": "code",
   "execution_count": 23,
   "metadata": {},
   "outputs": [],
   "source": [
    "def G(p, tt):\n",
    "    return jnp.einsum('kl,ijkl->ij', p, tt) - jnp.einsum('kl,ilkj->ij', p, 0.5 * tt)"
   ]
  },
  {
   "cell_type": "code",
   "execution_count": 24,
   "metadata": {},
   "outputs": [],
   "source": [
    "P = jnp.zeros((2, 2))\n",
    "for n_iter in range(MAX_ITER):\n",
    "    g = G(P, TT)\n",
    "    F = H0 + g\n",
    "    \n",
    "    # Electronic energy\n",
    "    e_E = jnp.sum(0.5 * P * (H0 + F))\n",
    "\n",
    "    Fp = X.T @ F @ X\n",
    "    E, Cp = jnp.linalg.eig(Fp.T)\n",
    "    C = X @ Cp\n",
    "    \n",
    "    old_P = P.copy()\n",
    "    P = 2 * jnp.einsum('i,j', C[:, 0], C[:, 0])\n",
    "\n",
    "    delta = jnp.sqrt(jnp.power(P - old_P, 2).sum() / 4)\n",
    "    \n",
    "    if delta < 1e-6:\n",
    "        break"
   ]
  },
  {
   "cell_type": "code",
   "execution_count": 25,
   "metadata": {},
   "outputs": [],
   "source": [
    "TOTAL_E = e_E + ZA * ZB / R"
   ]
  },
  {
   "cell_type": "code",
   "execution_count": 26,
   "metadata": {},
   "outputs": [
    {
     "name": "stdout",
     "output_type": "stream",
     "text": [
      "(-2.860662+0j)\n"
     ]
    }
   ],
   "source": [
    "print(TOTAL_E)"
   ]
  }
 ],
 "metadata": {
  "kernelspec": {
   "display_name": "Python 3 (ipykernel)",
   "language": "python",
   "name": "python3"
  },
  "language_info": {
   "codemirror_mode": {
    "name": "ipython",
    "version": 3
   },
   "file_extension": ".py",
   "mimetype": "text/x-python",
   "name": "python",
   "nbconvert_exporter": "python",
   "pygments_lexer": "ipython3",
   "version": "3.10.5"
  },
  "vscode": {
   "interpreter": {
    "hash": "4b49697b3cc290a8747139197077e5affab9f21e7d4546c5d95d0b763cc8027a"
   }
  }
 },
 "nbformat": 4,
 "nbformat_minor": 4
}
